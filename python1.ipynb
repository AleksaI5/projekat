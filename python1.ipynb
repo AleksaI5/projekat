{
  "nbformat": 4,
  "nbformat_minor": 0,
  "metadata": {
    "colab": {
      "provenance": [],
      "include_colab_link": true
    },
    "kernelspec": {
      "name": "python3",
      "display_name": "Python 3"
    },
    "language_info": {
      "name": "python"
    }
  },
  "cells": [
    {
      "cell_type": "markdown",
      "metadata": {
        "id": "view-in-github",
        "colab_type": "text"
      },
      "source": [
        "<a href=\"https://colab.research.google.com/github/AleksaI5/projekat/blob/main/python1.ipynb\" target=\"_parent\"><img src=\"https://colab.research.google.com/assets/colab-badge.svg\" alt=\"Open In Colab\"/></a>"
      ]
    },
    {
      "cell_type": "markdown",
      "source": [
        "# Druga vežba iz Python-a. Obnavljanje. Promenljive, tipovi i indeksiranje. Rad sa niskama i f-stringovi. Duck-typing i tipovi podataka u pythonu."
      ],
      "metadata": {
        "id": "Xtb9FeEMMkkT"
      }
    },
    {
      "cell_type": "markdown",
      "source": [
        "**1.**\n",
        "- Napraviti celobrojnu promenljivu *nAutomobila*, i dati joj neku celobrojnu vrednost.\n",
        "- Napraviti realnu promenljivu *Potrosnja*, i dati joj neku realnu vrednost, koja oslikava potrošnju goriva na 100km za neki automobil.\n",
        "- Napraviti realnu promenljivu *DuzinaPuta*, i dati joj vrednost\n",
        "- Izračunati ukupnu količinu potrošenog goriva za sve automobile, ako svaki od automobila pređe put jednom, i smestiti je u promenljivu *UkupnaPotrosnja*"
      ],
      "metadata": {
        "id": "L3xE4wAQM5Lm"
      }
    },
    {
      "cell_type": "code",
      "source": [
        "nAutomobila = 5\n",
        "Potrosnja = 6.5\n",
        "DuzinaPuta = 120.0\n",
        "UkupnaPotrosnja = (Potrosnja / 100) * DuzinaPuta * nAutomobila\n",
        "print(UkupnaPotrosnja)"
      ],
      "metadata": {
        "id": "c3xHEHU6M4N3",
        "colab": {
          "base_uri": "https://localhost:8080/"
        },
        "outputId": "36710d2b-e601-41d9-9d8e-c012d450bdb4"
      },
      "execution_count": null,
      "outputs": [
        {
          "output_type": "stream",
          "name": "stdout",
          "text": [
            "39.0\n"
          ]
        }
      ]
    },
    {
      "cell_type": "markdown",
      "source": [
        "**2.**\n",
        "- U ćeliji ispod je dat niz potrošnji za automobile. Izvršiti ovaj kod bez izmena"
      ],
      "metadata": {
        "id": "U2DJwNwfOA_u"
      }
    },
    {
      "cell_type": "code",
      "source": [
        "potrosnjaNa100=[8.2,4.8,9.1,7.5,5.5,10.4,5.5] # izvrsiti ovaj kod bez izmena"
      ],
      "metadata": {
        "id": "Hg105r61OBNC"
      },
      "execution_count": null,
      "outputs": []
    },
    {
      "cell_type": "markdown",
      "source": [
        "# - Uzevši u obzir promenljivu *DuzinaPuta* iz prethodnog zadatka, ponovo izračunati ukupnu potrošnju, koristeći niz potrošnji *potrosnjaNa100*. Rezultat smestiti u promenljivu *UkupnaPotrosnja1*."
      ],
      "metadata": {
        "id": "fD05q4fdOlo8"
      }
    },
    {
      "cell_type": "code",
      "source": [
        "DuzinaPuta = 120.0\n",
        "PotrosnjaNa100 = [6.5, 7.2, 5.8, 6.0, 7.0]\n",
        "UkupnaPotrosnja1 = 0\n",
        "for potrosnja in potrosnjaNa100:\n",
        "    UkupnaPotrosnja1 += (potrosnja / 100) * DuzinaPuta\n",
        "print(UkupnaPotrosnja1)"
      ],
      "metadata": {
        "id": "X4krolgEO8t1",
        "colab": {
          "base_uri": "https://localhost:8080/"
        },
        "outputId": "acf05155-ec1e-45f5-98d5-c62018536313"
      },
      "execution_count": null,
      "outputs": [
        {
          "output_type": "stream",
          "name": "stdout",
          "text": [
            "61.199999999999996\n"
          ]
        }
      ]
    },
    {
      "cell_type": "markdown",
      "source": [
        "**3.**\n",
        "- Ispisati indeks najmanje potrošnje i indeks najveće potrošnje na sledeći način:\n",
        " - \"{i}-ti automobil ima najmanju potrošnju\"\n",
        " - \"{j}-ti automobil ima najveću potrošnju\"\n",
        "- indekse *i* i *j* zameniti odgovarajućim. **Rešavati isključivo preko koda, ne koristiti konstantne vrednosti. Kod mora da radi tačno i ako se promeni niz potrosnjaNa100**"
      ],
      "metadata": {
        "id": "t7LU03k6PWck"
      }
    },
    {
      "cell_type": "code",
      "source": [
        "potrosnjaNa100 = [6.5, 7.2, 5.8, 6.0, 7.0]\n",
        "min_potrosnja = min(potrosnjaNa100)\n",
        "max_potrosnja = max(potrosnjaNa100)\n",
        "ljuba = potrosnjaNa100.index(min_potrosnja)\n",
        "volokin = potrosnjaNa100.index(max_potrosnja)\n",
        "print(ljuba)\n",
        "print(volokin)"
      ],
      "metadata": {
        "id": "817cvF6SOl0f",
        "colab": {
          "base_uri": "https://localhost:8080/"
        },
        "outputId": "d1c382a0-3226-4a46-9606-e6d9bd1644d3"
      },
      "execution_count": null,
      "outputs": [
        {
          "output_type": "stream",
          "name": "stdout",
          "text": [
            "2\n",
            "1\n"
          ]
        }
      ]
    },
    {
      "cell_type": "markdown",
      "source": [
        "**4.**\n",
        "- Izračunati ukupne potrošnje za svaki element niza *potrosnjaNa100*, koristeći promenljivu *DuzinaPuta*. Smestiti rezultat u promenljivu *ukupnePotrosnje*"
      ],
      "metadata": {
        "id": "8mr1F8EuRgix"
      }
    },
    {
      "cell_type": "code",
      "source": [
        "DuzinaPuta = 120.0\n",
        "potrosnjaNa100 = [6.5, 7.2, 5.8, 6.0, 7.0]\n",
        "ukupnePotrosnje = [(p / 100) * DuzinaPuta for p in potrosnjaNa100]\n",
        "print(ukupnePotrosnje)"
      ],
      "metadata": {
        "id": "8X4kCuAyRgxw",
        "colab": {
          "base_uri": "https://localhost:8080/"
        },
        "outputId": "3a05e27b-f6e5-454e-ab49-a06f5315036a"
      },
      "execution_count": null,
      "outputs": [
        {
          "output_type": "stream",
          "name": "stdout",
          "text": [
            "[7.800000000000001, 8.64, 6.959999999999999, 7.199999999999999, 8.4]\n"
          ]
        }
      ]
    },
    {
      "cell_type": "markdown",
      "source": [
        "- Sortirati niz *ukupnePotrosnje* i ispisati sve elemente, razdvojene sa \"-\". (savet: koristiti funkciju join za ispis, a sort za sortiranje)\n",
        "\n",
        "\n"
      ],
      "metadata": {
        "id": "sEgQuDrwVJMh"
      }
    },
    {
      "cell_type": "code",
      "source": [
        "ukupnePotrosnje = [7.8, 8.64, 6.96, 7.2, 8.4]\n",
        "ukupnePotrosnje.sort()\n",
        "ukupnePotrosnje_str = [str(p) for p in ukupnePotrosnje]\n",
        "rezultat = \"-\".join(ukupnePotrosnje_str)\n",
        "print(rezultat)"
      ],
      "metadata": {
        "id": "0VUoKmykVJU6",
        "colab": {
          "base_uri": "https://localhost:8080/"
        },
        "outputId": "03aa3005-f09f-40d1-b840-7564a19ca790"
      },
      "execution_count": null,
      "outputs": [
        {
          "output_type": "stream",
          "name": "stdout",
          "text": [
            "6.96-7.2-7.8-8.4-8.64\n"
          ]
        }
      ]
    }
  ]
}