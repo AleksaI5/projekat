{
  "nbformat": 4,
  "nbformat_minor": 0,
  "metadata": {
    "colab": {
      "provenance": [],
      "include_colab_link": true
    },
    "kernelspec": {
      "name": "python3",
      "display_name": "Python 3"
    },
    "language_info": {
      "name": "python"
    }
  },
  "cells": [
    {
      "cell_type": "markdown",
      "metadata": {
        "id": "view-in-github",
        "colab_type": "text"
      },
      "source": [
        "<a href=\"https://colab.research.google.com/github/AleksaI5/projekat/blob/main/Python0.ipynb\" target=\"_parent\"><img src=\"https://colab.research.google.com/assets/colab-badge.svg\" alt=\"Open In Colab\"/></a>"
      ]
    },
    {
      "cell_type": "markdown",
      "source": [
        "# Vežbe iz Python-a. Promenljive, tipovi i indeksiranje. Rad sa niskama i f-stringovi. Duck-typing i tipovi podataka u pajtonu."
      ],
      "metadata": {
        "id": "dfMMhUOxmxOT"
      }
    },
    {
      "cell_type": "markdown",
      "source": [
        " - Napraviti promenljivu *Mile* i dodeliti joj vrednost *10*, a zatim ispitati njen tip."
      ],
      "metadata": {
        "id": "GTS5mNddopnW"
      }
    },
    {
      "cell_type": "code",
      "execution_count": 1,
      "metadata": {
        "id": "IxNJXjFvmEeB",
        "outputId": "32ef2088-c5d6-4323-ecc6-870af74cdf31",
        "colab": {
          "base_uri": "https://localhost:8080/"
        }
      },
      "outputs": [
        {
          "output_type": "stream",
          "name": "stdout",
          "text": [
            "<class 'int'>\n"
          ]
        }
      ],
      "source": [
        "Mile = 10\n",
        "print(type(Mile))"
      ]
    },
    {
      "cell_type": "markdown",
      "source": [
        "- Napraviti novu promenljivu *Žika* i dodeliti joj vrednost 4.2, a zatim ispitati njen tip."
      ],
      "metadata": {
        "id": "CBPtVrnupW-X"
      }
    },
    {
      "cell_type": "code",
      "source": [
        "Žika = 4.2\n",
        "print(type(Žika))"
      ],
      "metadata": {
        "id": "ivX2YQr7pXWk",
        "outputId": "83128423-1c6b-4313-d751-c5e12cfcd1ab",
        "colab": {
          "base_uri": "https://localhost:8080/"
        }
      },
      "execution_count": 2,
      "outputs": [
        {
          "output_type": "stream",
          "name": "stdout",
          "text": [
            "<class 'float'>\n"
          ]
        }
      ]
    },
    {
      "cell_type": "markdown",
      "source": [
        "- Sabrati, podeliti, oduzeti i pomnožiti promenljive, i proveriti rezultujući tip"
      ],
      "metadata": {
        "id": "wAwJXh9cyG0X"
      }
    },
    {
      "cell_type": "code",
      "source": [
        "zbir = Mile + Žika\n",
        "razlika = Mile - Žika\n",
        "proizvod = Mile * Žika\n",
        "print(type(zbir))\n",
        "print(type(razlika))\n",
        "print(type(proizvod))"
      ],
      "metadata": {
        "id": "GmrXLibbyHfA",
        "outputId": "54c4729d-5880-4602-b587-ffd1185a4578",
        "colab": {
          "base_uri": "https://localhost:8080/"
        }
      },
      "execution_count": 3,
      "outputs": [
        {
          "output_type": "stream",
          "name": "stdout",
          "text": [
            "<class 'float'>\n",
            "<class 'float'>\n",
            "<class 'float'>\n"
          ]
        }
      ]
    },
    {
      "cell_type": "markdown",
      "source": [
        "- Dat je niz *a* koji sadrži nekoliko elemenata. (Izvršiti ćeliju ispod bez promena)\n",
        "\n"
      ],
      "metadata": {
        "id": "JMcvTKczqeW1"
      }
    },
    {
      "cell_type": "code",
      "source": [
        "a=[9, 8, 4, 7, 1]\n",
        "a"
      ],
      "metadata": {
        "colab": {
          "base_uri": "https://localhost:8080/"
        },
        "id": "7CiNrAteyLxQ",
        "outputId": "7f587c33-5774-4364-d47f-265fe462b966"
      },
      "execution_count": 4,
      "outputs": [
        {
          "output_type": "execute_result",
          "data": {
            "text/plain": [
              "[9, 8, 4, 7, 1]"
            ]
          },
          "metadata": {},
          "execution_count": 4
        }
      ]
    },
    {
      "cell_type": "markdown",
      "source": [
        "- Proveriti tip niza *a*"
      ],
      "metadata": {
        "id": "DAIdIhAwyuM6"
      }
    },
    {
      "cell_type": "code",
      "source": [
        "a=[9, 8, 4, 7, 1]\n",
        "print(type(a))"
      ],
      "metadata": {
        "id": "gnS_jUKtyuTl",
        "outputId": "42215bd3-d0b4-4f46-d885-25d4bcf0409c",
        "colab": {
          "base_uri": "https://localhost:8080/"
        }
      },
      "execution_count": 5,
      "outputs": [
        {
          "output_type": "stream",
          "name": "stdout",
          "text": [
            "<class 'list'>\n"
          ]
        }
      ]
    },
    {
      "cell_type": "markdown",
      "source": [
        "- Ispisati njegovu veličinu"
      ],
      "metadata": {
        "id": "3a-MCSLYecbJ"
      }
    },
    {
      "cell_type": "code",
      "source": [
        "a=[9, 8, 4, 7, 1]\n",
        "print(len(a))"
      ],
      "metadata": {
        "id": "B52Qf32Seabe",
        "outputId": "09227c87-6285-4b08-d8ea-1b4b1f7cb4f1",
        "colab": {
          "base_uri": "https://localhost:8080/"
        }
      },
      "execution_count": 6,
      "outputs": [
        {
          "output_type": "stream",
          "name": "stdout",
          "text": [
            "5\n"
          ]
        }
      ]
    },
    {
      "cell_type": "markdown",
      "source": [
        "- Ispisati njegov prvi element"
      ],
      "metadata": {
        "id": "bUCXG-XIei5P"
      }
    },
    {
      "cell_type": "code",
      "source": [
        "a=[9, 8, 4, 7, 1]\n",
        "print(a[0])"
      ],
      "metadata": {
        "id": "4HQKu9iYelF_",
        "outputId": "46dc7d34-ade8-492e-9253-c5d59961e2b0",
        "colab": {
          "base_uri": "https://localhost:8080/"
        }
      },
      "execution_count": 9,
      "outputs": [
        {
          "output_type": "stream",
          "name": "stdout",
          "text": [
            "9\n"
          ]
        }
      ]
    },
    {
      "cell_type": "markdown",
      "source": [
        "- Sabrati njegov prvi i poslednji element i smestiti ga u promenljivu *b*\n",
        "- Pomnožiti sve elemente niza *a* promenljivom *b*\n",
        "- Proveriti tip promenljive *b*\n",
        "- Ponovo proveriti tip niza *a*"
      ],
      "metadata": {
        "id": "tRKh6XmIyMBu"
      }
    },
    {
      "cell_type": "code",
      "source": [
        "a=[9, 8, 4, 7, 1]\n",
        "prvi = a[0]\n",
        "poslednji = a[4]\n",
        "b = prvi + poslednji\n",
        "print(type(b))\n",
        "print(type(a))"
      ],
      "metadata": {
        "id": "ti4w7am6qek1",
        "outputId": "8d6e017d-a1f3-4500-e461-c2f5409e3080",
        "colab": {
          "base_uri": "https://localhost:8080/"
        }
      },
      "execution_count": 10,
      "outputs": [
        {
          "output_type": "stream",
          "name": "stdout",
          "text": [
            "<class 'int'>\n",
            "<class 'list'>\n"
          ]
        }
      ]
    },
    {
      "cell_type": "markdown",
      "source": [
        "- Naći medijanu niza *a*"
      ],
      "metadata": {
        "id": "286owPamyYIe"
      }
    },
    {
      "cell_type": "code",
      "source": [
        "a=[9, 8, 4, 7, 1]\n",
        "a_sortiran = sorted(a)\n",
        "n = len(a_sortiran)\n",
        "sredina = n // 2\n",
        "if n % 2 == 1:\n",
        "  med = a_sortiran[sredina]\n",
        "else:\n",
        "  med = (a_sortiran[sredina - 1] + a_sortiran[sredina]) / 2\n",
        "print(med)"
      ],
      "metadata": {
        "id": "Y9bV3uXyyYRW",
        "outputId": "14871816-172c-4106-9f21-cc296d12aeae",
        "colab": {
          "base_uri": "https://localhost:8080/"
        }
      },
      "execution_count": 11,
      "outputs": [
        {
          "output_type": "stream",
          "name": "stdout",
          "text": [
            "7\n"
          ]
        }
      ]
    },
    {
      "cell_type": "markdown",
      "source": [
        "- Napraviti promenljivu *Ime* i inicijalizovati joj vrednost svojim imenom\n",
        "- Napraviti promenljivu *Prezime* i inicijalizovati joj vrednost svojim prezimenom\n",
        "- Iskoristiti promenljive *Ime* i *Prezime*, i ispisati \"Zdravo, ja se zovem **Ime** **Prezime**\""
      ],
      "metadata": {
        "id": "Xj0eAjGRwGNX"
      }
    },
    {
      "cell_type": "code",
      "source": [
        "Ime = \"Aleksa\"\n",
        "Prezime = \"Rangelov\"\n",
        "print(f\"Zdravo ja sam {Ime} {Prezime}\")"
      ],
      "metadata": {
        "id": "kfm8H30uwGTz",
        "outputId": "a9fb1821-d667-4d83-e7a4-3efb3fe9c827",
        "colab": {
          "base_uri": "https://localhost:8080/"
        }
      },
      "execution_count": 16,
      "outputs": [
        {
          "output_type": "stream",
          "name": "stdout",
          "text": [
            "Zdravo ja sam Aleksa Rangelov\n"
          ]
        }
      ]
    },
    {
      "cell_type": "markdown",
      "source": [
        "\n",
        "- Iskoristiti f-string za ispisivanje teksta iz prethodnog koraka"
      ],
      "metadata": {
        "id": "HlPDJDA-yiTJ"
      }
    },
    {
      "cell_type": "code",
      "source": [],
      "metadata": {
        "id": "cyAwS35EyiaV"
      },
      "execution_count": null,
      "outputs": []
    },
    {
      "cell_type": "markdown",
      "source": [
        "- Iskoristiti f-string za ispisivanje dužine niza *a*"
      ],
      "metadata": {
        "id": "sxSeDrCTy28b"
      }
    },
    {
      "cell_type": "code",
      "source": [
        "a=[9, 8, 4, 7, 1]\n",
        "print(f\"{len(a)}\")"
      ],
      "metadata": {
        "id": "31RC_gSAy2a5",
        "outputId": "7c56a3ed-1149-454c-dee2-66fddc9ad254",
        "colab": {
          "base_uri": "https://localhost:8080/"
        }
      },
      "execution_count": 22,
      "outputs": [
        {
          "output_type": "stream",
          "name": "stdout",
          "text": [
            "5\n"
          ]
        }
      ]
    },
    {
      "cell_type": "markdown",
      "source": [
        "- Dat je broj *F*, izvršiti sledeću ćeliju bez izmena"
      ],
      "metadata": {
        "id": "g1R2Wg8vzPrx"
      }
    },
    {
      "cell_type": "code",
      "source": [
        "F=10/3\n",
        "F"
      ],
      "metadata": {
        "colab": {
          "base_uri": "https://localhost:8080/"
        },
        "id": "mmpTHZ8pzJuK",
        "outputId": "4057067a-3c4e-4f2c-94f6-568e032b1cc9"
      },
      "execution_count": 17,
      "outputs": [
        {
          "output_type": "execute_result",
          "data": {
            "text/plain": [
              "3.3333333333333335"
            ]
          },
          "metadata": {},
          "execution_count": 17
        }
      ]
    },
    {
      "cell_type": "markdown",
      "source": [
        "- Ispisati vrednost broja *F*, ograničavajući ispis na 2 decimale"
      ],
      "metadata": {
        "id": "klpLWDzCzJnv"
      }
    },
    {
      "cell_type": "code",
      "source": [
        "F = 10 / 3\n",
        "print(f\"{F:.2f}\")"
      ],
      "metadata": {
        "id": "4S1KOCnOzv79",
        "outputId": "f264dc11-4a84-4fd5-e577-55e2509f70f6",
        "colab": {
          "base_uri": "https://localhost:8080/"
        }
      },
      "execution_count": 18,
      "outputs": [
        {
          "output_type": "stream",
          "name": "stdout",
          "text": [
            "3.33\n"
          ]
        }
      ]
    },
    {
      "cell_type": "markdown",
      "source": [
        "- Pokušati sabiranje promenljiva *Ime* i *a*"
      ],
      "metadata": {
        "id": "HsmHG1AT0OW5"
      }
    },
    {
      "cell_type": "code",
      "source": [
        "Ime = \"Aleksa\"\n",
        "a=[9, 8, 4, 7, 1]\n",
        "print(Ime + \" \" + str(a))"
      ],
      "metadata": {
        "id": "dJMxWzC_0W3G",
        "outputId": "733a5111-0d07-4d8d-f4f4-40535255ecca",
        "colab": {
          "base_uri": "https://localhost:8080/"
        }
      },
      "execution_count": 19,
      "outputs": [
        {
          "output_type": "stream",
          "name": "stdout",
          "text": [
            "Aleksa [9, 8, 4, 7, 1]\n"
          ]
        }
      ]
    },
    {
      "cell_type": "markdown",
      "source": [
        "- Pokušati bezbedno sabiranje promenljivih *Ime* i *a*. U slučaju da ne mogu da se saberu, nadovezati ih (pretvarajući odgovarajuće vrednosti u string)"
      ],
      "metadata": {
        "id": "eXDGH3n30XMW"
      }
    },
    {
      "cell_type": "code",
      "source": [
        "Ime = \"Aleksa\"\n",
        "a=[9, 8, 4, 7, 1]\n",
        "try:\n",
        "  rezultat = Ime + a\n",
        "except TypeError:\n",
        "  rezultat = str(Ime) + str(a)\n",
        "print(rezultat)"
      ],
      "metadata": {
        "id": "YQqXh9Yp0lxZ",
        "outputId": "508633d9-6959-4504-dc97-48431d68dd1e",
        "colab": {
          "base_uri": "https://localhost:8080/"
        }
      },
      "execution_count": 21,
      "outputs": [
        {
          "output_type": "stream",
          "name": "stdout",
          "text": [
            "Aleksa[9, 8, 4, 7, 1]\n"
          ]
        }
      ]
    },
    {
      "cell_type": "code",
      "source": [],
      "metadata": {
        "id": "W84aDleX5iGr"
      },
      "execution_count": null,
      "outputs": []
    }
  ]
}