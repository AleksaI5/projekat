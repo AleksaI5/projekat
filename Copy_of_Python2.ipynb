{
  "nbformat": 4,
  "nbformat_minor": 0,
  "metadata": {
    "colab": {
      "provenance": [],
      "include_colab_link": true
    },
    "kernelspec": {
      "name": "python3",
      "display_name": "Python 3"
    },
    "language_info": {
      "name": "python"
    }
  },
  "cells": [
    {
      "cell_type": "markdown",
      "metadata": {
        "id": "view-in-github",
        "colab_type": "text"
      },
      "source": [
        "<a href=\"https://colab.research.google.com/github/AleksaI5/projekat/blob/main/Copy_of_Python2.ipynb\" target=\"_parent\"><img src=\"https://colab.research.google.com/assets/colab-badge.svg\" alt=\"Open In Colab\"/></a>"
      ]
    },
    {
      "cell_type": "markdown",
      "source": [
        "# Treće vežbe iz pajtona. Blokovi. Kontrola toka, grananje. Korisnički definisane funkcije"
      ],
      "metadata": {
        "id": "CAPN5TP0OFNj"
      }
    },
    {
      "cell_type": "markdown",
      "source": [
        "1. Izvršiti ćeliju ispod, a onda napisati kod u sledećoj ćeliji koji ispisuje \"Polozio\", ako je promenljiva *ocena* iznad 1,5 ili \"Pao\", ako je promenljiva *ocena* ispod 1,5."
      ],
      "metadata": {
        "id": "WVmucjXUOSi2"
      }
    },
    {
      "cell_type": "code",
      "source": [
        "ocena=3.14"
      ],
      "metadata": {
        "id": "ZTEDLe0tOR6e"
      },
      "execution_count": null,
      "outputs": []
    },
    {
      "cell_type": "code",
      "source": [
        "ocena = 3.14;\n",
        "if(ocena > 1.5):\n",
        "    print(\"Polozio\");\n",
        "\n",
        "else:\n",
        "    print(\"Pao\")\n"
      ],
      "metadata": {
        "id": "i1WhhnBQO3Ob",
        "colab": {
          "base_uri": "https://localhost:8080/"
        },
        "outputId": "83f63f44-55a0-4f71-829e-e18fef4123d0"
      },
      "execution_count": null,
      "outputs": [
        {
          "output_type": "stream",
          "name": "stdout",
          "text": [
            "Polozio\n"
          ]
        }
      ]
    },
    {
      "cell_type": "markdown",
      "source": [
        "2. Napisati kod u ćeliju ispod koji u odnosu na ocenu ispisuje odgovarajući uspeh:\n",
        "- 4.5-5 odlican\n",
        "- 3.5-4.5 vrlo dobar\n",
        "- 2.5-3.5 dobar\n",
        "- 1.5-2.5 dovoljan\n",
        "- 0-1.5 nedovoljan\n"
      ],
      "metadata": {
        "id": "-Sj6a3iyO13f"
      }
    },
    {
      "cell_type": "code",
      "source": [
        "ocena = float(input(\"Unesi: \"));\n",
        "if(4.5 <= ocena <= 5):\n",
        "  print(\"odlican\");\n",
        "elif(3.5 <= ocena <= 4.5):\n",
        "  print(\"vrlo dobar\");\n",
        "elif(2.5 <= ocena <= 3.5):\n",
        "  print(\"dobar\");\n",
        "elif(1.5 <= ocena <= 2.5):\n",
        "  print(\"dovoljan\");\n",
        "elif(0 <= ocena <= 1.5):\n",
        "  print(\"nedovoljan\");"
      ],
      "metadata": {
        "id": "w6UKWeVePjhJ",
        "colab": {
          "base_uri": "https://localhost:8080/"
        },
        "outputId": "8d40151a-fcfe-4984-af91-6ac5a31b458a"
      },
      "execution_count": null,
      "outputs": [
        {
          "output_type": "stream",
          "name": "stdout",
          "text": [
            "Unesi: 3\n",
            "dobar\n"
          ]
        }
      ]
    },
    {
      "cell_type": "markdown",
      "source": [
        "3. Izvršiti kod u sledećoj ćeliji."
      ],
      "metadata": {
        "id": "PNEhEW8TPsri"
      }
    },
    {
      "cell_type": "code",
      "source": [
        "trazeni_uspeh=6.28/2"
      ],
      "metadata": {
        "id": "vNYhQgLhPxhm"
      },
      "execution_count": null,
      "outputs": []
    },
    {
      "cell_type": "markdown",
      "source": [
        "- Napisati kod u sledećoj ćeliji koji ispituje da li je ocena jednaka traženom uspehu, i ako jeste, ispisati: \"Dostignut traženi uspeh\""
      ],
      "metadata": {
        "id": "9BeI8yfnPxqq"
      }
    },
    {
      "cell_type": "code",
      "source": [
        "ocena = float(input(\"Unesi: \"));\n",
        "trazena = float(input(\"Unesi trazecu: \"));\n",
        "if(abs(ocena - trazena)<0.00000001):\n",
        "  print(\"Dostignut traženi uspeh\")\n",
        "else:\n",
        "  print(\"Nije\");"
      ],
      "metadata": {
        "id": "4tYpPwEbQok2",
        "colab": {
          "base_uri": "https://localhost:8080/"
        },
        "outputId": "c0519c3b-9f3a-4b46-fb1d-4b6602765201"
      },
      "execution_count": null,
      "outputs": [
        {
          "output_type": "stream",
          "name": "stdout",
          "text": [
            "Unesi: 3\n",
            "Unesi trazecu: 2\n",
            "Nije\n"
          ]
        }
      ]
    },
    {
      "cell_type": "markdown",
      "source": [
        "4. Izvršiti sledeću ćeliju, pa onda napisati kod koji računa sumu, prosek i maksimum niza *a*."
      ],
      "metadata": {
        "id": "eXEekmYyQEpA"
      }
    },
    {
      "cell_type": "code",
      "source": [
        "a=[4,6,21,7.3,0.1]"
      ],
      "metadata": {
        "id": "LuxhH5aEQE87"
      },
      "execution_count": null,
      "outputs": []
    },
    {
      "cell_type": "code",
      "source": [
        "a=[4,6,21,7.3,0.1];\n",
        "suma = sum(a);\n",
        "prosek = suma / len(a);\n",
        "maksimum = max(a);\n",
        "print(suma);\n",
        "print(prosek);\n",
        "print(maksimum)"
      ],
      "metadata": {
        "id": "51QVhMpLQdtx",
        "colab": {
          "base_uri": "https://localhost:8080/"
        },
        "outputId": "b0c30cfa-b4b2-4cfa-aa0e-27ec4f03e79e"
      },
      "execution_count": null,
      "outputs": [
        {
          "output_type": "stream",
          "name": "stdout",
          "text": [
            "38.4\n",
            "7.68\n",
            "21\n"
          ]
        }
      ]
    },
    {
      "cell_type": "markdown",
      "source": [
        "5.\n",
        "- Ispisati svaki drugi element niza *a*."
      ],
      "metadata": {
        "id": "rOHoBKdwQZ0a"
      }
    },
    {
      "cell_type": "code",
      "source": [
        "a=[4,6,21,7.3,0.1];\n",
        "print(a[: :2]);"
      ],
      "metadata": {
        "id": "ZK6kUYg8QZ6w",
        "colab": {
          "base_uri": "https://localhost:8080/"
        },
        "outputId": "b53c49de-909b-4975-e7f2-dc59391d4668"
      },
      "execution_count": null,
      "outputs": [
        {
          "output_type": "stream",
          "name": "stdout",
          "text": [
            "[4, 21, 0.1]\n"
          ]
        }
      ]
    },
    {
      "cell_type": "markdown",
      "source": [
        "- Napraviti novi niz *b*, koji sadrži duplirane elemente niza *a*\n",
        "- Napraviti novi niz *c*, koji sadrži polovljene elemente niza *a*.\n"
      ],
      "metadata": {
        "id": "5QwZqMLNQpzP"
      }
    },
    {
      "cell_type": "code",
      "source": [
        "a=[4,6,21,7.3,0.1];\n",
        "b = [i * 2 for i in a];\n",
        "c = [i / 2 for i in a];\n",
        "print(a);\n",
        "print(b);\n",
        "print(c);"
      ],
      "metadata": {
        "id": "7BC3xcobRFYZ",
        "colab": {
          "base_uri": "https://localhost:8080/"
        },
        "outputId": "8c8981fc-ed41-44ee-8bd0-58b4bfc99ed6"
      },
      "execution_count": null,
      "outputs": [
        {
          "output_type": "stream",
          "name": "stdout",
          "text": [
            "[4, 6, 21, 7.3, 0.1]\n",
            "[8, 12, 42, 14.6, 0.2]\n",
            "[2.0, 3.0, 10.5, 3.65, 0.05]\n"
          ]
        }
      ]
    },
    {
      "cell_type": "markdown",
      "source": [
        "6. Napraviti novi niz *d*, koji sadrži zbir odgovarajućih elemenata nizova *a*+*b*+*c*."
      ],
      "metadata": {
        "id": "g0pVR5ZjRSyI"
      }
    },
    {
      "cell_type": "code",
      "source": [
        "a=[4,6,21,7.3,0.1];\n",
        "b = [i * 2 for i in a];\n",
        "c = [i / 2 for i in a];\n",
        "d = [x + y + z for x, y, z in zip(a, b, c)];\n",
        "print(a);\n",
        "print(b);\n",
        "print(c);\n",
        "print(d);"
      ],
      "metadata": {
        "id": "-jz87FUzRhmW"
      },
      "execution_count": null,
      "outputs": []
    },
    {
      "cell_type": "markdown",
      "source": [
        "7. Definisati funkciju koja duplira uneseni broj\n"
      ],
      "metadata": {
        "id": "q_UKQRD-SC4m"
      }
    },
    {
      "cell_type": "code",
      "source": [
        "def dupliraj(broj):\n",
        "    return broj * 2;\n",
        "n = float(input(\"Unesi n: \"));\n",
        "rez = dupliraj(n);\n",
        "print(\"Duplirani broj je:\", rez);"
      ],
      "metadata": {
        "id": "cwOAkWxwSC88",
        "colab": {
          "base_uri": "https://localhost:8080/"
        },
        "outputId": "9cde9452-70ba-4e2e-a784-e1ace01553c1"
      },
      "execution_count": null,
      "outputs": [
        {
          "output_type": "stream",
          "name": "stdout",
          "text": [
            "Unesi n: 2\n",
            "Duplirani broj je: 4.0\n"
          ]
        }
      ]
    },
    {
      "cell_type": "markdown",
      "source": [
        "8. Definisati funkciju koja ispisuje odgovarajuću poruku u odnosu na argument ocena, nalik na 2. zadatak."
      ],
      "metadata": {
        "id": "jKoSPKZFSnTB"
      }
    },
    {
      "cell_type": "code",
      "source": [
        "def uspeh(ocena):\n",
        "    if 4.5 <= ocena <= 5:\n",
        "        print(\"Odličan\");\n",
        "    elif 3.5 <= ocena < 4.5:\n",
        "        print(\"Vrlo dobar\");\n",
        "    elif 2.5 <= ocena < 3.5:\n",
        "        print(\"Dobar\");\n",
        "    elif 1.5 <= ocena < 2.5:\n",
        "        print(\"Dovoljan\");\n",
        "    elif 0 <= ocena < 1.5:\n",
        "        print(\"Nedovoljan\");\n",
        "    else:\n",
        "        print(\"Nevažeća ocena\");\n",
        "ocena = float(input(\"Unesi ocenu: \"));\n",
        "uspeh(ocena);"
      ],
      "metadata": {
        "id": "DtsqKV1lSnW5",
        "colab": {
          "base_uri": "https://localhost:8080/"
        },
        "outputId": "6793781f-1c30-4071-9bca-9eb1761395de"
      },
      "execution_count": null,
      "outputs": [
        {
          "output_type": "stream",
          "name": "stdout",
          "text": [
            "Unesi ocenu: 3.12\n",
            "Dobar\n"
          ]
        }
      ]
    },
    {
      "cell_type": "markdown",
      "source": [
        "9. Napisati funkciju *samoglasnici*, koja za prosleđen string ispisuje samo samoglasnike redom, npr. \"Dobar dan, dragi gledaoci\"-> \"oa a ai eaoi\"  "
      ],
      "metadata": {
        "id": "peeKh4UUTPy3"
      }
    },
    {
      "cell_type": "code",
      "source": [
        "def samoglasnici(tekst):\n",
        "    samoglasnici = \"aeiouAEIOU\";\n",
        "    rez = \"\";\n",
        "    for slovo in tekst:\n",
        "        if slovo in samoglasnici:\n",
        "            rez += slovo;\n",
        "    return rez;\n",
        "recenica = \"Dobar dan, dragi gledaoci\";\n",
        "recenica1 = \"Pajton je super\";\n",
        "recenica2 = \"trk\";\n",
        "recenica3 = \"  \";\n",
        "recenica4 = \"a\";\n",
        "samoglasnici(recenica);\n",
        "samoglasnici(recenica1);\n",
        "samoglasnici(recenica2);\n",
        "samoglasnici(recenica3);\n",
        "samoglasnici(recenica4);\n"
      ],
      "metadata": {
        "id": "vd6FhbjWTPDk"
      },
      "execution_count": null,
      "outputs": []
    },
    {
      "cell_type": "code",
      "source": [
        "print(samoglasnici(\"Pajton je super\"))\n",
        "print(samoglasnici(\"trk\"))\n",
        "print(samoglasnici(\"  \"))\n",
        "print(samoglasnici(\"a\"))"
      ],
      "metadata": {
        "id": "6QGmnJB-UQQy",
        "colab": {
          "base_uri": "https://localhost:8080/"
        },
        "outputId": "c024d9fa-fea7-479f-94c4-ce8f58f7d597"
      },
      "execution_count": null,
      "outputs": [
        {
          "output_type": "stream",
          "name": "stdout",
          "text": [
            "aoeue\n",
            "\n",
            "\n",
            "a\n"
          ]
        }
      ]
    }
  ]
}