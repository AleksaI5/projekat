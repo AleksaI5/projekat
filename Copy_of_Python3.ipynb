{
  "nbformat": 4,
  "nbformat_minor": 0,
  "metadata": {
    "colab": {
      "provenance": [],
      "include_colab_link": true
    },
    "kernelspec": {
      "name": "python3",
      "display_name": "Python 3"
    },
    "language_info": {
      "name": "python"
    }
  },
  "cells": [
    {
      "cell_type": "markdown",
      "metadata": {
        "id": "view-in-github",
        "colab_type": "text"
      },
      "source": [
        "<a href=\"https://colab.research.google.com/github/AleksaI5/projekat/blob/main/Copy_of_Python3.ipynb\" target=\"_parent\"><img src=\"https://colab.research.google.com/assets/colab-badge.svg\" alt=\"Open In Colab\"/></a>"
      ]
    },
    {
      "cell_type": "markdown",
      "source": [
        "# Pajton. Blokovi i funkcije. Strukture podataka"
      ],
      "metadata": {
        "id": "Eh3xQnIFMTOv"
      }
    },
    {
      "cell_type": "markdown",
      "source": [
        "1. Напиши код који организује елементе низа тако да прво иду сви парни елементи, а затим непарни, при чему међусобни редослед парних и непарних елемената није битан.\n"
      ],
      "metadata": {
        "id": "yzbT5zt4MdKm"
      }
    },
    {
      "cell_type": "code",
      "execution_count": null,
      "metadata": {
        "id": "OG6ySULoLp8F"
      },
      "outputs": [],
      "source": [
        "а=[2, 5, 3, 6, 1, 8, 9, 10, 11, 4]"
      ]
    },
    {
      "cell_type": "code",
      "source": [
        "def spojeno(a):\n",
        "    parni = [x for x in a if x % 2 == 0];\n",
        "    neparni = [x for x in a if x % 2 == 1];\n",
        "    return parni + neparni;\n",
        "a = [2, 5, 3, 6, 1, 8, 9, 10, 11, 4];\n",
        "res = spojeno(a);\n",
        "print(res);"
      ],
      "metadata": {
        "id": "6swlRAcJYsH1",
        "outputId": "82c011b9-9aec-47b4-8ee8-bd780bf5a522",
        "colab": {
          "base_uri": "https://localhost:8080/"
        }
      },
      "execution_count": null,
      "outputs": [
        {
          "output_type": "stream",
          "name": "stdout",
          "text": [
            "[2, 6, 8, 10, 4, 5, 3, 1, 9, 11]\n"
          ]
        }
      ]
    },
    {
      "cell_type": "markdown",
      "source": [
        "2. Израчунати факториjeл броја помоћу функције factorial(a). Проверити исправност функције следећом ћелијом."
      ],
      "metadata": {
        "id": "0Bs73-ozNpQD"
      }
    },
    {
      "cell_type": "code",
      "source": [
        "def factorial(a):\n",
        "    if a == 0:\n",
        "        return 0;\n",
        "    f = 1;\n",
        "    for x in range(1, a + 1):\n",
        "        f = f * x;\n",
        "    return f;\n",
        "a = int(input(\"Unesite broj: \"));\n",
        "print(factorial(a));"
      ],
      "metadata": {
        "id": "0fOA7YQmN6yb",
        "outputId": "ae8c74a8-a1f8-4503-937f-a05a67dfd2c9",
        "colab": {
          "base_uri": "https://localhost:8080/"
        }
      },
      "execution_count": null,
      "outputs": [
        {
          "output_type": "stream",
          "name": "stdout",
          "text": [
            "Unesite broj: 5\n",
            "120\n"
          ]
        }
      ]
    },
    {
      "cell_type": "code",
      "source": [
        "assert factorial(5) == 120\n",
        "assert factorial(0) == 1\n",
        "assert factorial(1) == 2"
      ],
      "metadata": {
        "id": "RPsFMM4fOJ43"
      },
      "execution_count": null,
      "outputs": []
    },
    {
      "cell_type": "markdown",
      "source": [
        "3. Сортирати низ парова по другом елементу."
      ],
      "metadata": {
        "id": "kdg6SRYlOjmW"
      }
    },
    {
      "cell_type": "code",
      "source": [
        "a=[(1,2),(2,3),(0,1),(-5,2),(3,1),(-4,-1)]"
      ],
      "metadata": {
        "id": "wus42-8JOjLv"
      },
      "execution_count": null,
      "outputs": []
    },
    {
      "cell_type": "code",
      "source": [
        "a = [(1, 2), (2, 3), (0, 1), (-5, 2), (3, 1), (-4, -1)];\n",
        "def drugi(par):\n",
        "    return par[1];\n",
        "a1 = sorted(a, key=drugi);\n",
        "print(a1);"
      ],
      "metadata": {
        "id": "Iek3R5cZO959",
        "outputId": "d8d3c313-687b-4d23-c799-140c5164d939",
        "colab": {
          "base_uri": "https://localhost:8080/"
        }
      },
      "execution_count": null,
      "outputs": [
        {
          "output_type": "stream",
          "name": "stdout",
          "text": [
            "[(-4, -1), (0, 1), (3, 1), (1, 2), (-5, 2), (2, 3)]\n"
          ]
        }
      ]
    }
  ]
}